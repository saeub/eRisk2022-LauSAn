{
 "cells": [
  {
   "cell_type": "code",
   "execution_count": 3,
   "metadata": {},
   "outputs": [],
   "source": [
    "from glob import glob\n",
    "\n",
    "import numpy as np\n",
    "import matplotlib.pyplot as plt\n",
    "\n",
    "from src.data import parse_subject"
   ]
  },
  {
   "cell_type": "code",
   "execution_count": 13,
   "metadata": {},
   "outputs": [],
   "source": [
    "neg_subjects = [\n",
    "    parse_subject(filename)\n",
    "    for filename in glob(f\"data/training_t2/TRAINING_DATA/*/neg/*.xml\", recursive=True)\n",
    "]\n",
    "pos_subjects = [\n",
    "    parse_subject(filename)\n",
    "    for filename in glob(f\"data/training_t2/TRAINING_DATA/*/pos/*.xml\", recursive=True)\n",
    "]\n",
    "all_subjects = neg_subjects + pos_subjects"
   ]
  },
  {
   "cell_type": "code",
   "execution_count": 31,
   "metadata": {},
   "outputs": [
    {
     "name": "stdout",
     "output_type": "stream",
     "text": [
      "# negative subjects: 1493\n",
      "# positive subjects: 214\n",
      "# total subjects: 1707\n",
      "\n",
      "# negative posts: 986360\n",
      "# positive posts: 90222\n",
      "# total posts: 1076582\n",
      "\n",
      "# posts without title: 734645\n",
      "# posts without text: 289369\n",
      "# posts without title or text: 310\n"
     ]
    }
   ],
   "source": [
    "print(\"# negative subjects:\", len(neg_subjects))\n",
    "print(\"# positive subjects:\", len(pos_subjects))\n",
    "print(\"# total subjects:\", len(all_subjects))\n",
    "print()\n",
    "print(\"# negative posts:\", sum(len(subject.posts) for subject in neg_subjects))\n",
    "print(\"# positive posts:\", sum(len(subject.posts) for subject in pos_subjects))\n",
    "print(\"# total posts:\", sum(len(subject.posts) for subject in all_subjects))\n",
    "print()\n",
    "print(\"# posts without title:\", len([post for subject in all_subjects for post in subject.posts if len(post.title) == 0]))\n",
    "print(\"# posts without text:\", len([post for subject in all_subjects for post in subject.posts if len(post.text) == 0]))\n",
    "print(\"# posts without title or text:\", len([post for subject in all_subjects for post in subject.posts if len(post.text) == len(post.title) == 0]))"
   ]
  },
  {
   "cell_type": "code",
   "execution_count": 40,
   "metadata": {},
   "outputs": [
    {
     "data": {
      "text/plain": [
       "(array([113.,  21.,  14.,  16.,   9.,  25.,   9.,   3.,   2.,   2.]),\n",
       " array([  10.,  205.,  400.,  595.,  790.,  985., 1180., 1375., 1570.,\n",
       "        1765., 1960.]),\n",
       " <BarContainer object of 10 artists>)"
      ]
     },
     "execution_count": 40,
     "metadata": {},
     "output_type": "execute_result"
    },
    {
     "data": {
      "image/png": "[encoded data removed]",
      "text/plain": [
       "<Figure size 432x288 with 1 Axes>"
      ]
     },
     "metadata": {
      "needs_background": "light"
     },
     "output_type": "display_data"
    }
   ],
   "source": [
    "num_neg_posts = [len(subject.posts) for subject in neg_subjects]\n",
    "num_pos_posts = [len(subject.posts) for subject in pos_subjects]\n",
    "fig, ax = plt.subplots()\n",
    "ax.set_title(\"Number of posts per subject\")\n",
    "ax.hist(num_neg_posts)\n",
    "ax.hist(num_pos_posts)"
   ]
  },
  {
   "cell_type": "code",
   "execution_count": 43,
   "metadata": {},
   "outputs": [
    {
     "name": "stdout",
     "output_type": "stream",
     "text": [
      "Min: 0.0\n",
      "Max: 39973.0\n"
     ]
    },
    {
     "data": {
      "image/png": "[encoded data removed]",
      "text/plain": [
       "<Figure size 432x288 with 1 Axes>"
      ]
     },
     "metadata": {
      "needs_background": "light"
     },
     "output_type": "display_data"
    }
   ],
   "source": [
    "alpha = 0.1\n",
    "neg_post_lens = [len(post.title + post.text) + alpha for subject in neg_subjects for post in subject.posts]\n",
    "pos_post_lens = [len(post.title + post.text) + alpha for subject in pos_subjects for post in subject.posts]\n",
    "fig, ax = plt.subplots()\n",
    "ax.set_title(\"log(len(title + text))\")\n",
    "ax.hist(np.log(neg_post_lens), bins=100)\n",
    "ax.hist(np.log(pos_post_lens), bins=100)\n",
    "print(\"Min:\", min(neg_post_lens + pos_post_lens) - alpha)\n",
    "print(\"Max:\", max(neg_post_lens + pos_post_lens) - alpha)"
   ]
  },
  {
   "cell_type": "code",
   "execution_count": 55,
   "metadata": {},
   "outputs": [
    {
     "name": "stderr",
     "output_type": "stream",
     "text": [
      "/tmp/ipykernel_356738/1154014093.py:6: RuntimeWarning: invalid value encountered in log\n",
      "  ax.hist(np.log(neg_post_intervals), bins=100)\n",
      "/tmp/ipykernel_356738/1154014093.py:7: RuntimeWarning: invalid value encountered in log\n",
      "  ax.hist(np.log(pos_post_intervals), bins=100)\n"
     ]
    },
    {
     "name": "stdout",
     "output_type": "stream",
     "text": [
      "Shortest post history: 2:47:52\n",
      "Longest post history: 3953 days, 10:14:55\n"
     ]
    },
    {
     "data": {
      "image/png": "[encoded data removed]",
      "text/plain": [
       "<Figure size 432x288 with 1 Axes>"
      ]
     },
     "metadata": {
      "needs_background": "light"
     },
     "output_type": "display_data"
    }
   ],
   "source": [
    "alpha = 0.1\n",
    "neg_post_intervals = [(post1.date - post2.date).total_seconds() + alpha for subject in neg_subjects for post1, post2 in zip(subject.posts, subject.posts[1:])]\n",
    "pos_post_intervals = [(post1.date - post2.date).total_seconds() + alpha for subject in pos_subjects for post1, post2 in zip(subject.posts, subject.posts[1:])]\n",
    "fig, ax = plt.subplots()\n",
    "ax.set_title(\"log(seconds between consecutive posts)\")\n",
    "ax.hist(np.log(neg_post_intervals), bins=100)\n",
    "ax.hist(np.log(pos_post_intervals), bins=100)\n",
    "print(\"Shortest post history:\", min(subject.posts[0].date - subject.posts[-1].date for subject in all_subjects))\n",
    "print(\"Longest post history:\", max(subject.posts[0].date - subject.posts[-1].date for subject in all_subjects))"
   ]
  }
 ],
 "metadata": {
  "interpreter": {
   "hash": "51a63d93004b45fcc95d7729f1512fa00181c40cc371f96724393f73a7cd0f80"
  },
  "kernelspec": {
   "display_name": "Python 3.8.12 ('venv': venv)",
   "language": "python",
   "name": "python3"
  },
  "language_info": {
   "codemirror_mode": {
    "name": "ipython",
    "version": 3
   },
   "file_extension": ".py",
   "mimetype": "text/x-python",
   "name": "python",
   "nbconvert_exporter": "python",
   "pygments_lexer": "ipython3",
   "version": "3.8.12"
  },
  "orig_nbformat": 4
 },
 "nbformat": 4,
 "nbformat_minor": 2
}
